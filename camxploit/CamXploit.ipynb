{
 "cells": [
  {
   "cell_type": "markdown",
   "metadata": {},
   "source": [
    "# 🎥 CamXploit - Exposed CCTV Camera Recon Tool\n",
    "\n",
    "**Install and use CamXploit right here in Colab or Jupyter.**\n",
    "\n",
    "CamXploit scans, detects, and analyzes exposed IP cameras: common ports, login pages, default credentials, brand/vuln ID, live streams, & more.\n",
    "\n",
    "_⚠️ Educational use only! Do not scan devices you do not own or have explicit permission to test._"
   ]
  },
  {
   "cell_type": "code",
   "execution_count": null,
   "metadata": {},
   "outputs": [],
   "source": [
    "# 📦 Clone the repo and install dependencies\n",
    "!git clone https://github.com/spyboy-productions/CamXploit.git\n",
    "%cd CamXploit\n",
    "!pip install -r requirements.txt"
   ]
  },
  {
   "cell_type": "markdown",
   "metadata": {},
   "source": [
    "## ✅ Example Usage"
   ]
  },
  {
   "cell_type": "code",
   "execution_count": null,
   "metadata": {},
   "outputs": [],
   "source": [
    "# 🔍 Scan a public IP for exposed CCTV cameras (replace with your target IP)\n",
    "!python3 CamXploit.py"
   ]
  },
  {
   "cell_type": "markdown",
   "metadata": {},
   "source": [
    "You will be prompted for an IP. **Enter the IP address you want to scan.**\n",
    "\n",
    "> _Again: Only scan devices you have explicit authorization to test._"
   ]
  }
 ],
 "metadata": {
  "colab": {
   "provenance": []
  },
  "kernelspec": {
   "display_name": "Python 3",
   "language": "python",
   "name": "python3"
  },
  "language_info": {
   "name": "python"
  }
 },
 "nbformat": 4,
 "nbformat_minor": 0
}
